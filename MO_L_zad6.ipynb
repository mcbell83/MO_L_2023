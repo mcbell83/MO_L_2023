{
  "nbformat": 4,
  "nbformat_minor": 0,
  "metadata": {
    "colab": {
      "provenance": []
    },
    "kernelspec": {
      "name": "python3",
      "display_name": "Python 3"
    },
    "language_info": {
      "name": "python"
    }
  },
  "cells": [
    {
      "cell_type": "markdown",
      "source": [
        "# Metody optymalizacji - Laboratorium\n",
        "\n",
        "## Zadanie 6 - Python #1\n",
        "## Optymalizacja liniowa\n",
        "\n",
        "Równania:\n",
        "\n",
        "3a + 6b + 2c <= 50\n",
        "\n",
        "4a - 6b + 8c <= 45\n",
        "\n",
        "3a + 1b – 5c <= 37\n",
        "\n",
        "**max** -> 3*a + 2*b + 2*c\n"
      ],
      "metadata": {
        "id": "rWUcGrzfBf4Z"
      }
    },
    {
      "cell_type": "code",
      "source": [
        "# pip zostanie zaktualizowany do najnowszej wersji, co może być przydatne w celu uniknięcia problemów z zależnościami pakietów i utrzymania środowiska programistycznego w dobrym stanie\n",
        "!pip install --upgrade pip"
      ],
      "metadata": {
        "colab": {
          "base_uri": "https://localhost:8080/"
        },
        "id": "eJybhOhHh42F",
        "outputId": "30db6b40-7294-4a4d-fa0b-79435aa4e367"
      },
      "execution_count": 6,
      "outputs": [
        {
          "output_type": "stream",
          "name": "stdout",
          "text": [
            "Looking in indexes: https://pypi.org/simple, https://us-python.pkg.dev/colab-wheels/public/simple/\n",
            "Requirement already satisfied: pip in /usr/local/lib/python3.9/dist-packages (23.1.2)\n",
            "\u001b[33mWARNING: Running pip as the 'root' user can result in broken permissions and conflicting behaviour with the system package manager. It is recommended to use a virtual environment instead: https://pip.pypa.io/warnings/venv\u001b[0m\u001b[33m\n",
            "\u001b[0m"
          ]
        }
      ]
    },
    {
      "cell_type": "code",
      "source": [
        "# instalacja biblioteki OR-Tools przy uzyciu menagera pakietów pip\n",
        "!pip install ortools"
      ],
      "metadata": {
        "colab": {
          "base_uri": "https://localhost:8080/"
        },
        "id": "7iJ4tByniv_S",
        "outputId": "727360bd-2de2-4561-c12e-18ecd1057811"
      },
      "execution_count": 7,
      "outputs": [
        {
          "output_type": "stream",
          "name": "stdout",
          "text": [
            "Looking in indexes: https://pypi.org/simple, https://us-python.pkg.dev/colab-wheels/public/simple/\n",
            "Requirement already satisfied: ortools in /usr/local/lib/python3.9/dist-packages (9.6.2534)\n",
            "Requirement already satisfied: absl-py>=0.13 in /usr/local/lib/python3.9/dist-packages (from ortools) (1.4.0)\n",
            "Requirement already satisfied: numpy>=1.13.3 in /usr/local/lib/python3.9/dist-packages (from ortools) (1.22.4)\n",
            "Requirement already satisfied: protobuf>=4.21.12 in /usr/local/lib/python3.9/dist-packages (from ortools) (4.22.3)\n",
            "Requirement already satisfied: scipy>=1.10.0 in /usr/local/lib/python3.9/dist-packages (from ortools) (1.10.1)\n",
            "\u001b[33mWARNING: Running pip as the 'root' user can result in broken permissions and conflicting behaviour with the system package manager. It is recommended to use a virtual environment instead: https://pip.pypa.io/warnings/venv\u001b[0m\u001b[33m\n",
            "\u001b[0m"
          ]
        }
      ]
    },
    {
      "cell_type": "code",
      "source": [
        "# Importujemy bibliotekę solvera liniowego\n",
        "from ortools.linear_solver import pywraplp\n",
        "\n",
        "# Tworzymy nowy solver dla programowania matematycznego (MP)\n",
        "# SCIP: to argument używany przez toolbox OR-tools do rozwiązywania problemów nieliniowych mieszanych.\n",
        "\n",
        "solver = pywraplp.Solver.CreateSolver('SCIP')\n",
        "\n",
        "# Zmienne a, b i c są nieujemnymi zmiennymi całkowitoliczbowymi.\n",
        " \n",
        "vara = solver.IntVar(0.0, solver.infinity(), 'a')\n",
        "varb = solver.IntVar(0.0, solver.infinity(), 'b') \n",
        "varc = solver.IntVar(0.0, solver.infinity(), 'c')\n",
        "\n",
        "# Ograniczenia\n",
        "# Równanie 1\n",
        "cons_in1 = solver.Constraint(-solver.infinity(), 50)\n",
        "cons_in1.SetCoefficient(vara, 3)\n",
        "cons_in1.SetCoefficient(varb, 6)\n",
        "cons_in1.SetCoefficient(varc, 2)\n",
        "# Równanie 2\n",
        "cons_in2 = solver.Constraint(-solver.infinity(), 45)\n",
        "cons_in2.SetCoefficient(vara, 4)\n",
        "cons_in2.SetCoefficient(varb, -6)\n",
        "cons_in2.SetCoefficient(varc, 8)\n",
        "# Równanie 3\n",
        "cons_in3 = solver.Constraint(-solver.infinity(), 37)\n",
        "cons_in3.SetCoefficient(vara, 3)\n",
        "cons_in3.SetCoefficient(varb, 1)\n",
        "cons_in3.SetCoefficient(varc, -5)\n",
        "\n",
        "# Funkcja celu\n",
        "obj_prog = solver.Objective()\n",
        "obj_prog.SetCoefficient(vara, 3)\n",
        "obj_prog.SetCoefficient(varb, 2)\n",
        "obj_prog.SetCoefficient(varc, 2)\n",
        "\n",
        "obj_prog.SetMaximization()\n",
        "\n"
      ],
      "metadata": {
        "id": "KsPw5rehCzaF"
      },
      "execution_count": 8,
      "outputs": []
    },
    {
      "cell_type": "code",
      "source": [
        "solver.Solve()\n",
        "\n",
        "# Wyświetlenie wyniku programu\n",
        "print('Max value  = %d' % solver.Objective().Value())\n",
        "print()\n",
        "\n"
      ],
      "metadata": {
        "colab": {
          "base_uri": "https://localhost:8080/"
        },
        "id": "P-yJDw_jFLnV",
        "outputId": "0f8cf1e7-6851-4ba1-d88a-6b5ad2bfaef5"
      },
      "execution_count": 9,
      "outputs": [
        {
          "output_type": "stream",
          "name": "stdout",
          "text": [
            "Max value  = 42\n",
            "\n"
          ]
        }
      ]
    },
    {
      "cell_type": "code",
      "source": [
        "# wyświetlenie wartości zmiennych a, b, c po rozwiązaniu programu liniowego.\n",
        "\n",
        "for variable in [vara, varb, varc]:\n",
        "        print('%s = %d' % (variable.name(), variable.solution_value()))"
      ],
      "metadata": {
        "id": "Jloj70B5FlpX",
        "outputId": "73c8c46b-59c1-40da-badb-573d94fd04b4",
        "colab": {
          "base_uri": "https://localhost:8080/"
        }
      },
      "execution_count": 10,
      "outputs": [
        {
          "output_type": "stream",
          "name": "stdout",
          "text": [
            "a = 12\n",
            "b = 2\n",
            "c = 1\n"
          ]
        }
      ]
    }
  ]
}